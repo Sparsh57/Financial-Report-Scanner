{
 "nbformat": 4,
 "nbformat_minor": 0,
 "metadata": {
  "colab": {
   "provenance": [],
   "authorship_tag": "ABX9TyMnn7+8ib5mxTgY5eFLlSzl"
  },
  "kernelspec": {
   "name": "python3",
   "display_name": "Python 3"
  },
  "language_info": {
   "name": "python"
  }
 },
 "cells": [
  {
   "cell_type": "code",
   "source": [
    "!pip install openai"
   ],
   "metadata": {
    "id": "DRiL6M6oxmW6",
    "colab": {
     "base_uri": "https://localhost:8080/"
    },
    "outputId": "16995626-3096-4f85-bddd-870f7f01aa0a",
    "pycharm": {
     "name": "#%%\n",
     "is_executing": true
    }
   },
   "execution_count": null,
   "outputs": []
  },
  {
   "cell_type": "code",
   "execution_count": 5,
   "metadata": {
    "id": "H-pnswEaoZVD",
    "executionInfo": {
     "status": "ok",
     "timestamp": 1721979520838,
     "user_tz": -330,
     "elapsed": 15138,
     "user": {
      "displayName": "Sparsh Makharia",
      "userId": "16776531501596328657"
     }
    },
    "pycharm": {
     "name": "#%%\n"
    }
   },
   "outputs": [],
   "source": [
    "from pydrive.auth import GoogleAuth\n",
    "from pydrive.drive import GoogleDrive\n",
    "from google.colab import auth\n",
    "from oauth2client.client import GoogleCredentials\n",
    "from openai import OpenAI\n",
    "from google.colab import userdata\n",
    "auth.authenticate_user()\n",
    "gauth = GoogleAuth()\n",
    "gauth.credentials = GoogleCredentials.get_application_default()\n",
    "drive = GoogleDrive(gauth)\n",
    "import gspread\n",
    "from google.auth import default\n",
    "creds, _ = default()\n",
    "gc = gspread.authorize(creds)"
   ]
  },
  {
   "cell_type": "code",
   "source": [
    "# OpenAI client initialization\n",
    "client = OpenAI(api_key=userdata.get(\"chatgpt_api_key\"))\n",
    "\n",
    "# Create a new assistant\n",
    "assistant = client.beta.assistants.create(\n",
    "    name=\"Financial Analyst Assistant\",\n",
    "    instructions=\"You are an expert financial analyst. Use your knowledge base to answer questions about audited financial statements.\",\n",
    "    model=\"gpt-4-turbo\",\n",
    "    tools=[{\"type\": \"file_search\"}],\n",
    ")\n",
    "\n",
    "# Create a vector store for storing file contents\n",
    "vector_store = client.beta.vector_stores.create(name=\"Financial Statements\")\n",
    "\n",
    "# Define a function to ask questions for a given file\n",
    "def ask_questions_for_file(file_path, message_file):\n",
    "    answers = {}\n",
    "    for q in questions:\n",
    "        try:\n",
    "            # Create a thread with the question and attached file\n",
    "            thread = client.beta.threads.create(\n",
    "                messages=[\n",
    "                    {\n",
    "                        \"role\": \"user\",\n",
    "                        \"content\": q,\n",
    "                        \"attachments\": [\n",
    "                            {\"file_id\": message_file.id, \"tools\": [{\"type\": \"file_search\"}]}\n",
    "                        ],\n",
    "                    }\n",
    "                ]\n",
    "            )\n",
    "\n",
    "            # Run the thread and wait for the response\n",
    "            run = client.beta.threads.runs.create_and_poll(\n",
    "                thread_id=thread.id, assistant_id=assistant.id\n",
    "            )\n",
    "\n",
    "            # List messages received in response to the thread\n",
    "            messages = list(\n",
    "                client.beta.threads.messages.list(thread_id=thread.id, run_id=run.id)\n",
    "            )\n",
    "            # If no response received, mark as such\n",
    "            if not messages:\n",
    "                answers[q] = \"No response received\"\n",
    "                continue\n",
    "\n",
    "            # Extract and store the answer\n",
    "            message_content = messages[0].content[0].text\n",
    "            answers[q] = message_content.value\n",
    "        except Exception as e:\n",
    "            # Handle any errors that occur\n",
    "            answers[q] = f\"Error occurred: {str(e)}\"\n",
    "    return answers\n",
    "\n",
    "\n",
    "questions = [\n",
    "    \"What is the name of the company?\",\n",
    "    \"What year is covered by the annual report?\",\n",
    "    \"Who are the auditors of the company?\",\n",
    "    \"Who are the directors of the company?\",\n",
    "    \"What is the depreciation policy of the company?\"\n",
    "]\n",
    "\n",
    "files_answers = {}\n",
    "# Define the folder ID where PDF files are located\n",
    "folder_id = userdata.get(\"folder_id\")\n",
    "# Retrieve list of files in the specified folder\n",
    "file_list = drive.ListFile({'q': f\"'{folder_id}' in parents and trashed=false\"}).GetList()\n",
    "\n",
    "# Iterate over each file in the folder\n",
    "for file in file_list:\n",
    "    # Process only PDF files\n",
    "    if file['mimeType'] == 'application/pdf':\n",
    "        print(f'Downloading file: {file[\"title\"]}')\n",
    "        # Download the PDF file\n",
    "        file.GetContentFile(file['title'])\n",
    "        pdf_filename = file['title']\n",
    "        # Open the PDF file for reading\n",
    "        file_stream = open(pdf_filename, \"rb\")\n",
    "        # Upload the PDF file to the vector store\n",
    "        file_batch = client.beta.vector_stores.file_batches.upload_and_poll(\n",
    "            vector_store_id=vector_store.id, files=[file_stream]\n",
    "        )\n",
    "        # Create a message file for the assistant\n",
    "        message_file = client.files.create(\n",
    "            file=open(pdf_filename, \"rb\"), purpose=\"assistants\"\n",
    "        )\n",
    "\n",
    "        # Ask questions about the file and store answers\n",
    "        files_answers[pdf_filename] = ask_questions_for_file(pdf_filename, message_file)\n",
    "\n",
    "# Print all answers collected\n",
    "for filename, answers in files_answers.items():\n",
    "    print(f\"Answers for file: {filename}\")\n",
    "    for question, answer in answers.items():\n",
    "        print(f\"Question: {question}\")\n",
    "        print(f\"Answer: {answer}\")\n",
    "    print(\"\\n\")\n",
    "\n",
    "# Print the complete dictionary of answers for all files\n",
    "print(files_answers)"
   ],
   "metadata": {
    "id": "VUXsXHJGqSH6",
    "executionInfo": {
     "status": "ok",
     "timestamp": 1721979778802,
     "user_tz": -330,
     "elapsed": 12701,
     "user": {
      "displayName": "Sparsh Makharia",
      "userId": "16776531501596328657"
     }
    },
    "collapsed": true,
    "colab": {
     "base_uri": "https://localhost:8080/"
    },
    "outputId": "305de2af-73cb-4765-f347-6bc70ab386c8",
    "pycharm": {
     "name": "#%%\n",
     "is_executing": true
    }
   },
   "execution_count": null,
   "outputs": []
  },
  {
   "cell_type": "code",
   "source": [
    "# Get the sheet ID from the userdata\n",
    "sheet_id = userdata.get(\"sheet_id\")\n",
    "# Open the Google Sheet using its ID\n",
    "sh = gc.open_by_key(sheet_id)"
   ],
   "metadata": {
    "id": "ZxodszWQAHyv",
    "pycharm": {
     "name": "#%%\n"
    }
   },
   "execution_count": null,
   "outputs": []
  },
  {
   "cell_type": "code",
   "source": [
    "worksheet = sh.sheet1\n",
    "row = []\n",
    "header = worksheet.row_values(1)\n",
    "worksheet.clear()\n",
    "# Clear the worksheet, effectively removing all existing rows\n",
    "worksheet.append_row(header)\n",
    "# Iterate over each file and its corresponding answers\n",
    "for filename, answers in files_answers.items():\n",
    "  row.append(filename)\n",
    "  for question, answer in answers.items():\n",
    "    row.append(answer)\n",
    "  worksheet.append_row(row)\n",
    "  row = []"
   ],
   "metadata": {
    "id": "3jvXkknPAMz8",
    "pycharm": {
     "name": "#%%\n"
    }
   },
   "execution_count": null,
   "outputs": []
  }
 ]
}